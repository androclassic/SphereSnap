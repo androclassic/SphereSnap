{
 "cells": [
  {
   "cell_type": "code",
   "execution_count": null,
   "id": "55a603d4",
   "metadata": {},
   "outputs": [],
   "source": [
    "import os \n",
    "import sys\n",
    "import cv2\n",
    "import numpy as np\n",
    "from matplotlib import pyplot as plt\n",
    "from mpl_toolkits.axes_grid1 import ImageGrid\n",
    "from scipy.spatial.transform import Rotation as R\n",
    "\n",
    "NOTEBOOKS_DIR = os.path.abspath(\"./\")\n",
    "\n",
    "%matplotlib inline\n",
    "%reload_ext autoreload\n",
    "%autoreload 2\n",
    "from IPython.core.display import display, HTML\n",
    "display(HTML(\"<style>.container { width:100% !important; }</style>\"))\n",
    "\n",
    "\n",
    "sys.path.append(f\"{NOTEBOOKS_DIR}/..\")\n",
    "\n",
    "import sphere_snap.utils as snap_utils\n",
    "import sphere_snap.sphere_coor_projections as sphere_proj\n",
    "from sphere_snap.snap_config import SnapConfig, ImageProjectionType\n",
    "from sphere_snap.sphere_snap import SphereSnap\n",
    "import sphere_snap.reprojections as rpr\n"
   ]
  },
  {
   "cell_type": "code",
   "execution_count": null,
   "id": "6916cf1f",
   "metadata": {},
   "outputs": [],
   "source": [
    "def show_img(img):\n",
    "    plt.figure(figsize=(13, 13))\n",
    "    plt.imshow(img)\n",
    "    plt.show()\n",
    "\n",
    "def show_imgs(imgs, size = 14, nb_cols=2, title_txt= None, fontsize=10, imgs_text = None):\n",
    "    \"\"\"\n",
    "    Display a gird of images \n",
    "    :param imgs: the list of images to be displayed \n",
    "    :param size: display size of a cell\n",
    "    :param nb_cols: number of columns\n",
    "    \"\"\"\n",
    "\n",
    "    row_size = int(np.ceil(len(imgs)/nb_cols))\n",
    "    fig = plt.figure(figsize=(size,size))\n",
    "    axes_pad = 0.1 if imgs_text is None else 0.5\n",
    "\n",
    "    if title_txt is not None:\n",
    "        fig.suptitle(title_txt, fontsize=fontsize)\n",
    "    grid = ImageGrid(fig, 111,  # similar to subplot(111)\n",
    "                     nrows_ncols=(row_size, nb_cols),  # creates 2x2 grid of axes\n",
    "                     axes_pad=axes_pad,  # pad between axes in inch.\n",
    "                     )\n",
    "\n",
    "    for idx, data in enumerate(zip(grid, imgs)):\n",
    "        ax, img  = data\n",
    "        if imgs_text is not None:\n",
    "             ax.set_title(imgs_text[idx], fontdict={'fontsize': 15, 'fontweight': 'medium'}, loc='center', color = \"k\")\n",
    "        ax.imshow(img)\n",
    "    plt.show()\n",
    "    \n",
    "def rot(yaw, pitch):\n",
    "    return R.from_euler(\"yxz\",[yaw,-pitch,0], degrees=True).as_quat()\n"
   ]
  },
  {
   "cell_type": "code",
   "execution_count": null,
   "id": "038894d0",
   "metadata": {},
   "outputs": [],
   "source": [
    "equi_img_path =f\"{NOTEBOOKS_DIR}/../data/equi_test_img.jpg\"\n",
    "equi_img = plt.imread(equi_img_path)\n",
    "show_img(equi_img)"
   ]
  },
  {
   "cell_type": "markdown",
   "id": "92fd4122",
   "metadata": {},
   "source": [
    "### Snap to perspective from equirectangular"
   ]
  },
  {
   "cell_type": "code",
   "execution_count": null,
   "id": "6681bc36",
   "metadata": {},
   "outputs": [],
   "source": [
    "snap_config = SnapConfig( [0,0,0,1], (1400,1400),(120,120), equi_img.shape[:2], source_img_type=ImageProjectionType.EQUI)\n",
    "snap_test = SphereSnap(snap_config)\n",
    "persp_img = snap_test.snap_to_perspective(equi_img)\n",
    "show_img(persp_img)"
   ]
  },
  {
   "cell_type": "markdown",
   "id": "152018ab",
   "metadata": {},
   "source": [
    "### Reproject equirectangular into 6 planar images of 90 degrees FoV (Cubemap)"
   ]
  },
  {
   "cell_type": "code",
   "execution_count": null,
   "id": "42412104-4c6f-4a83-949e-a91f70c850aa",
   "metadata": {},
   "outputs": [],
   "source": [
    "cube_faces_imgs = rpr.equi2cubemap(equi_img)\n",
    "show_imgs(cube_faces_imgs, nb_cols=6)"
   ]
  },
  {
   "cell_type": "markdown",
   "id": "a1d121fd",
   "metadata": {},
   "source": [
    "### Reproject a planar image into equirectangular"
   ]
  },
  {
   "cell_type": "code",
   "execution_count": null,
   "id": "18b3db00",
   "metadata": {},
   "outputs": [],
   "source": [
    "reconstructed_equi = rpr.cubemap2equi(cube_faces_imgs[::-1])\n",
    "show_img(reconstructed_equi)\n"
   ]
  },
  {
   "cell_type": "code",
   "execution_count": null,
   "id": "e343f963-8981-4a02-afa1-bd11fef9ee2a",
   "metadata": {},
   "outputs": [],
   "source": [
    "show_imgs(rpr.equi2fisheye(equi_img))"
   ]
  },
  {
   "cell_type": "markdown",
   "id": "bcae3a1c-504f-4c62-a9d6-89c63921f2b3",
   "metadata": {},
   "source": [
    "### Reproject fromm equirectangular to Birds-Eye-View"
   ]
  },
  {
   "cell_type": "code",
   "execution_count": null,
   "id": "b84f5d31-7c30-467d-8e46-3229ce342dbb",
   "metadata": {},
   "outputs": [],
   "source": [
    "tv_img = rpr.equi2tv(equi_img, np.identity(3), (1000,1000), (90,90), 10, 2)\n",
    "show_img(tv_img)"
   ]
  },
  {
   "cell_type": "markdown",
   "id": "a14470d9",
   "metadata": {},
   "source": [
    "### Reproject a planar image into fisheye 180"
   ]
  },
  {
   "cell_type": "code",
   "execution_count": null,
   "id": "eb1c3584",
   "metadata": {},
   "outputs": [],
   "source": [
    "reconstructed_fisheye = SphereSnap.merge_multiple_snaps((1000,1000), \n",
    "                                                     [snap_test], # snap object specifies destination position\n",
    "                                                     [persp_img], # snap image contains planar image pixels\n",
    "                                                     target_type=ImageProjectionType.FISHEYE_180, # destination image type\n",
    "                                                     merge_method=\"max\")\n",
    "show_img(reconstructed_fisheye)\n"
   ]
  },
  {
   "cell_type": "markdown",
   "id": "99941d2c",
   "metadata": {},
   "source": [
    "### Snap to perspective from fisheye 180"
   ]
  },
  {
   "cell_type": "code",
   "execution_count": null,
   "id": "a741fad9",
   "metadata": {},
   "outputs": [],
   "source": [
    "snap_config = SnapConfig( rot(25,1), (1400,1400),(100,100), reconstructed_fisheye.shape[:2], source_img_type=ImageProjectionType.FISHEYE_180)\n",
    "snap_test = SphereSnap(snap_config)\n",
    "persp_img = snap_test.snap_to_perspective(reconstructed_fisheye)\n",
    "show_img(persp_img)"
   ]
  },
  {
   "cell_type": "markdown",
   "id": "7872d965",
   "metadata": {},
   "source": [
    "### Reproject fisheye 180 to equirectangular"
   ]
  },
  {
   "cell_type": "code",
   "execution_count": null,
   "id": "285b97d5",
   "metadata": {},
   "outputs": [],
   "source": [
    "fisheye180_img_path =f\"{NOTEBOOKS_DIR}/../data/fisheye180_test_img.jpg\"\n",
    "fisheye180_img = plt.imread(fisheye180_img_path)\n",
    "fisheye180_img = cv2.resize(fisheye180_img, (1000,1000))\n",
    "show_img(fisheye180_img)"
   ]
  },
  {
   "cell_type": "code",
   "execution_count": null,
   "id": "0546cbd1",
   "metadata": {},
   "outputs": [],
   "source": [
    "snap_configs = [SnapConfig( rot(yaw,pitch), (800,800),(110,110), fisheye180_img.shape[:2], source_img_type=ImageProjectionType.FISHEYE_180) \n",
    "                    for yaw,pitch in [[45,0],[-45,0],[0,45],[0,-45]]]\n",
    "snaps = [SphereSnap(c) for c in snap_configs]\n",
    "snap_imgs = [snap.snap_to_perspective(fisheye180_img) for snap in snaps]\n",
    "show_imgs(snap_imgs, nb_cols=7)"
   ]
  },
  {
   "cell_type": "code",
   "execution_count": null,
   "id": "f5754988",
   "metadata": {},
   "outputs": [],
   "source": [
    "reconstructed_equi = SphereSnap.merge_multiple_snaps((1000,2000), \n",
    "                                                     snaps, # snap object specifies destination position\n",
    "                                                     snap_imgs, # snap image contains planar image pixels\n",
    "                                                     target_type=ImageProjectionType.EQUI, # destination image type\n",
    "                                                     merge_method=\"max\")\n",
    "show_img(reconstructed_equi)\n"
   ]
  },
  {
   "cell_type": "code",
   "execution_count": null,
   "id": "9b91270a",
   "metadata": {},
   "outputs": [],
   "source": [
    "show_img(rpr.fisheye2equi(fisheye180_img,cv2.flip(fisheye180_img,1)))"
   ]
  },
  {
   "cell_type": "code",
   "execution_count": null,
   "id": "d1b3e24b",
   "metadata": {},
   "outputs": [],
   "source": []
  }
 ],
 "metadata": {
  "kernelspec": {
   "display_name": "Python 3",
   "language": "python",
   "name": "python3"
  },
  "language_info": {
   "codemirror_mode": {
    "name": "ipython",
    "version": 3
   },
   "file_extension": ".py",
   "mimetype": "text/x-python",
   "name": "python",
   "nbconvert_exporter": "python",
   "pygments_lexer": "ipython3",
   "version": "3.9.5"
  }
 },
 "nbformat": 4,
 "nbformat_minor": 5
}
