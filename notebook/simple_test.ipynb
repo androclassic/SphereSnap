{
 "cells": [
  {
   "cell_type": "code",
   "execution_count": null,
   "id": "55a603d4",
   "metadata": {},
   "outputs": [],
   "source": [
    "import os \n",
    "import sys\n",
    "import cv2\n",
    "import numpy as np\n",
    "from matplotlib import pyplot as plt\n",
    "from mpl_toolkits.axes_grid1 import ImageGrid\n",
    "from scipy.spatial.transform import Rotation as R\n",
    "\n",
    "NOTEBOOKS_DIR = os.path.abspath(\"./\")\n",
    "\n",
    "%matplotlib inline\n",
    "%reload_ext autoreload\n",
    "%autoreload 2\n",
    "from IPython.core.display import display, HTML\n",
    "display(HTML(\"<style>.container { width:100% !important; }</style>\"))\n",
    "\n",
    "\n",
    "sys.path.append(f\"{NOTEBOOKS_DIR}/..\")\n",
    "\n",
    "import sphere_snap.utils as snap_utils\n",
    "import sphere_snap.sphere_coor_projections as sphere_proj\n",
    "from sphere_snap.snap_config import SnapConfig\n",
    "from sphere_snap.sphere_snap import SphereSnap\n"
   ]
  },
  {
   "cell_type": "code",
   "execution_count": null,
   "id": "6916cf1f",
   "metadata": {},
   "outputs": [],
   "source": [
    "def show_img(img):\n",
    "    plt.figure(figsize=(13, 13))\n",
    "    plt.imshow(img)\n",
    "    plt.show()\n",
    "\n",
    "def show_imgs(imgs, size = 14, nb_cols=2, title_txt= None, fontsize=10, imgs_text = None):\n",
    "    \"\"\"\n",
    "    Display a gird of images \n",
    "    :param imgs: the list of images to be displayed \n",
    "    :param size: display size of a cell\n",
    "    :param nb_cols: number of columns\n",
    "    \"\"\"\n",
    "\n",
    "    row_size = int(np.ceil(len(imgs)/nb_cols))\n",
    "    fig = plt.figure(figsize=(size,size))\n",
    "    axes_pad = 0.1 if imgs_text is None else 0.5\n",
    "\n",
    "    if title_txt is not None:\n",
    "        fig.suptitle(title_txt, fontsize=fontsize)\n",
    "    grid = ImageGrid(fig, 111,  # similar to subplot(111)\n",
    "                     nrows_ncols=(row_size, nb_cols),  # creates 2x2 grid of axes\n",
    "                     axes_pad=axes_pad,  # pad between axes in inch.\n",
    "                     )\n",
    "\n",
    "    for idx, data in enumerate(zip(grid, imgs)):\n",
    "        ax, img  = data\n",
    "        if imgs_text is not None:\n",
    "             ax.set_title(imgs_text[idx], fontdict={'fontsize': 15, 'fontweight': 'medium'}, loc='center', color = \"k\")\n",
    "        ax.imshow(img)\n",
    "    plt.show()\n",
    "    \n",
    "def rot(yaw, pitch):\n",
    "    return R.from_euler(\"yxz\",[yaw,-pitch,0], degrees=True).as_quat()\n"
   ]
  },
  {
   "cell_type": "code",
   "execution_count": null,
   "id": "038894d0",
   "metadata": {},
   "outputs": [],
   "source": [
    "equi_img_path =f\"{NOTEBOOKS_DIR}/../data/equi_test_img.jpg\"\n",
    "equi_img = plt.imread(equi_img_path)\n",
    "show_img(equi_img)"
   ]
  },
  {
   "cell_type": "markdown",
   "id": "92fd4122",
   "metadata": {},
   "source": [
    "### Snap to perspective from equirectangular"
   ]
  },
  {
   "cell_type": "code",
   "execution_count": null,
   "id": "6681bc36",
   "metadata": {},
   "outputs": [],
   "source": [
    "snap_config = SnapConfig( [0,0,0,1], (1400,1400),(120,120), equi_img.shape[:2], source_img_type=\"equi\")\n",
    "snap_test = SphereSnap(snap_config)\n",
    "persp_img = snap_test.snap_to_perspective(equi_img)\n",
    "show_img(persp_img)"
   ]
  },
  {
   "cell_type": "markdown",
   "id": "152018ab",
   "metadata": {},
   "source": [
    "### Reproject equirectangular into 6 planar images of 90 degrees FoV (Cubemap)"
   ]
  },
  {
   "cell_type": "code",
   "execution_count": null,
   "id": "c0632452",
   "metadata": {},
   "outputs": [],
   "source": [
    "def get_cube_map_faces(face_size=1440, source_img_hw=(2000,4000), source_img_type=\"equi\"):\n",
    "    \n",
    "    snap_configs = [SnapConfig( rot(90*i,0), (face_size,face_size),(90,90), source_img_hw, source_img_type=source_img_type)\n",
    "                        for i in range(4)]\n",
    "    # top\n",
    "    snap_configs.append(SnapConfig( rot(0,90), (face_size,face_size),(90,90), source_img_hw, source_img_type=source_img_type))\n",
    "    # bottom\n",
    "    snap_configs.append(SnapConfig( rot(0,-90), (face_size,face_size),(90,90), source_img_hw, source_img_type=source_img_type))\n",
    "    return snap_configs\n"
   ]
  },
  {
   "cell_type": "code",
   "execution_count": null,
   "id": "40e48942",
   "metadata": {},
   "outputs": [],
   "source": [
    "cube_configs = get_cube_map_faces(face_size=1440, source_img_hw=equi_img.shape[:2])\n",
    "cube_faces_snaps = [SphereSnap(c) for c in cube_configs]\n",
    "cumbe_faces_imgs = [snap.snap_to_perspective(equi_img) for snap in cube_faces_snaps]\n",
    "show_imgs(cumbe_faces_imgs, nb_cols=6)"
   ]
  },
  {
   "cell_type": "markdown",
   "id": "a1d121fd",
   "metadata": {},
   "source": [
    "### Reproject a planar image into equirectangular"
   ]
  },
  {
   "cell_type": "code",
   "execution_count": null,
   "id": "18b3db00",
   "metadata": {},
   "outputs": [],
   "source": [
    "reconstructed_equi = SphereSnap.merge_multiple_snaps((1000,2000), \n",
    "                                                     cube_faces_snaps, # snap object specifies destination position\n",
    "                                                     cumbe_faces_imgs[::-1], # snap image contains planar image pixels\n",
    "                                                     target_type=\"equi\", # destination image type\n",
    "                                                     merge_method=\"max\")\n",
    "show_img(reconstructed_equi)\n"
   ]
  },
  {
   "cell_type": "markdown",
   "id": "a14470d9",
   "metadata": {},
   "source": [
    "### Reproject a planar image into fisheye 180"
   ]
  },
  {
   "cell_type": "code",
   "execution_count": null,
   "id": "eb1c3584",
   "metadata": {},
   "outputs": [],
   "source": [
    "reconstructed_fisheye = SphereSnap.merge_multiple_snaps((1000,1000), \n",
    "                                                     cube_faces_snaps, # snap object specifies destination position\n",
    "                                                     cumbe_faces_imgs, # snap image contains planar image pixels\n",
    "                                                     target_type=\"fisheye180\", # destination image type\n",
    "                                                     merge_method=\"max\")\n",
    "show_img(reconstructed_fisheye)\n"
   ]
  },
  {
   "cell_type": "markdown",
   "id": "99941d2c",
   "metadata": {},
   "source": [
    "### Snap to perspective from fisheye 180"
   ]
  },
  {
   "cell_type": "code",
   "execution_count": null,
   "id": "a741fad9",
   "metadata": {},
   "outputs": [],
   "source": [
    "snap_config = SnapConfig( rot(45,1), (1400,1400),(100,100), reconstructed_fisheye.shape[:2], source_img_type=\"fisheye180\")\n",
    "snap_test = SphereSnap(snap_config)\n",
    "persp_img = snap_test.snap_to_perspective(reconstructed_fisheye)\n",
    "show_img(persp_img)"
   ]
  },
  {
   "cell_type": "markdown",
   "id": "7872d965",
   "metadata": {},
   "source": [
    "### Reproject fisheye 180 to equirectangular"
   ]
  },
  {
   "cell_type": "code",
   "execution_count": null,
   "id": "285b97d5",
   "metadata": {},
   "outputs": [],
   "source": [
    "fisheye180_img_path =f\"{NOTEBOOKS_DIR}/../data/fisheye180_test_img.jpg\"\n",
    "fisheye180_img = plt.imread(fisheye180_img_path)\n",
    "fisheye180_img = cv2.resize(fisheye180_img, (1000,1000))\n",
    "show_img(fisheye180_img)"
   ]
  },
  {
   "cell_type": "code",
   "execution_count": null,
   "id": "0546cbd1",
   "metadata": {},
   "outputs": [],
   "source": [
    "snap_configs = [SnapConfig( rot(yaw,pitch), (800,800),(90,90), fisheye180_img.shape[:2], source_img_type=\"fisheye180\") \n",
    "                    for yaw,pitch in [[-45,-45],[45,-45],[-45,45],[45,45],[0,0]]]\n",
    "snaps = [SphereSnap(c) for c in snap_configs]\n",
    "snap_imgs = [snap.snap_to_perspective(fisheye180_img) for snap in snaps]\n",
    "show_imgs(snap_imgs, nb_cols=6)"
   ]
  },
  {
   "cell_type": "code",
   "execution_count": null,
   "id": "f5754988",
   "metadata": {},
   "outputs": [],
   "source": [
    "reconstructed_equi = SphereSnap.merge_multiple_snaps((1000,2000), \n",
    "                                                     snaps, # snap object specifies destination position\n",
    "                                                     snap_imgs, # snap image contains planar image pixels\n",
    "                                                     target_type=\"equi\", # destination image type\n",
    "                                                     merge_method=\"max\")\n",
    "show_img(reconstructed_equi)\n"
   ]
  },
  {
   "cell_type": "code",
   "execution_count": null,
   "id": "9b91270a",
   "metadata": {},
   "outputs": [],
   "source": []
  },
  {
   "cell_type": "code",
   "execution_count": null,
   "id": "d1b3e24b",
   "metadata": {},
   "outputs": [],
   "source": []
  }
 ],
 "metadata": {
  "kernelspec": {
   "display_name": "Python 3 (ipykernel)",
   "language": "python",
   "name": "python3"
  },
  "language_info": {
   "codemirror_mode": {
    "name": "ipython",
    "version": 3
   },
   "file_extension": ".py",
   "mimetype": "text/x-python",
   "name": "python",
   "nbconvert_exporter": "python",
   "pygments_lexer": "ipython3",
   "version": "3.8.13"
  }
 },
 "nbformat": 4,
 "nbformat_minor": 5
}
