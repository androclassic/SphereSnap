{
 "cells": [
  {
   "cell_type": "code",
   "execution_count": null,
   "id": "55a603d4",
   "metadata": {},
   "outputs": [],
   "source": [
    "import os \n",
    "import sys\n",
    "import cv2\n",
    "import numpy as np\n",
    "from matplotlib import pyplot as plt\n",
    "from mpl_toolkits.axes_grid1 import ImageGrid\n",
    "from scipy.spatial.transform import Rotation as R\n",
    "\n",
    "NOTEBOOKS_DIR = os.path.abspath(\"./\")\n",
    "\n",
    "%matplotlib inline\n",
    "%reload_ext autoreload\n",
    "%autoreload 2\n",
    "from IPython.core.display import display, HTML\n",
    "display(HTML(\"<style>.container { width:100% !important; }</style>\"))\n",
    "\n",
    "\n",
    "sys.path.append(f\"{NOTEBOOKS_DIR}/..\")\n",
    "\n",
    "import sphere_snap.utils as snap_utils\n",
    "import sphere_snap.sphere_coor_projections as sphere_proj\n",
    "from sphere_snap.snap_config import SnapConfig, ImageProjectionType\n",
    "from sphere_snap.sphere_snap import SphereSnap\n",
    "import sphere_snap.reprojections as rpr\n"
   ]
  },
  {
   "cell_type": "code",
   "execution_count": null,
   "id": "6916cf1f",
   "metadata": {},
   "outputs": [],
   "source": [
    "def show_img(img):\n",
    "    plt.figure(figsize=(13, 13))\n",
    "    plt.imshow(img)\n",
    "    plt.show()\n",
    "\n",
    "def show_imgs(imgs, size = 14, nb_cols=2, title_txt= None, fontsize=10, imgs_text = None):\n",
    "    \"\"\"\n",
    "    Display a gird of images \n",
    "    :param imgs: the list of images to be displayed \n",
    "    :param size: display size of a cell\n",
    "    :param nb_cols: number of columns\n",
    "    \"\"\"\n",
    "\n",
    "    row_size = int(np.ceil(len(imgs)/nb_cols))\n",
    "    fig = plt.figure(figsize=(size,size))\n",
    "    axes_pad = 0.1 if imgs_text is None else 0.5\n",
    "\n",
    "    if title_txt is not None:\n",
    "        fig.suptitle(title_txt, fontsize=fontsize)\n",
    "    grid = ImageGrid(fig, 111,  # similar to subplot(111)\n",
    "                     nrows_ncols=(row_size, nb_cols),  # creates 2x2 grid of axes\n",
    "                     axes_pad=axes_pad,  # pad between axes in inch.\n",
    "                     )\n",
    "\n",
    "    for idx, data in enumerate(zip(grid, imgs)):\n",
    "        ax, img  = data\n",
    "        if imgs_text is not None:\n",
    "             ax.set_title(imgs_text[idx], fontdict={'fontsize': 15, 'fontweight': 'medium'}, loc='center', color = \"k\")\n",
    "        ax.imshow(img)\n",
    "    plt.show()\n",
    "    \n",
    "def rot(yaw, pitch):\n",
    "    return R.from_euler(\"yxz\",[yaw,-pitch,0], degrees=True).as_quat()\n",
    "\n",
    "def blend_img(a, b, alpha=0.8):\n",
    "    return (alpha*a + (1-alpha) * b).astype(np.uint8)"
   ]
  },
  {
   "cell_type": "code",
   "execution_count": null,
   "id": "038894d0",
   "metadata": {},
   "outputs": [],
   "source": [
    "equi_layout = plt.imread(f\"{NOTEBOOKS_DIR}/../data/equi_test_img.png\")\n",
    "equi_photo = plt.imread(f\"{NOTEBOOKS_DIR}/../data/equirectangular.jpg\")\n",
    "fixed_size = (2000,1000)\n",
    "equi_layout = cv2.resize(equi_layout, fixed_size)\n",
    "equi_layout = (255*equi_layout).astype(np.uint8)\n",
    "equi_photo = cv2.resize(equi_photo, fixed_size)\n",
    "equi_blend = blend_img(equi_photo, equi_layout, 0.7)\n",
    "show_imgs([equi_photo,equi_blend], nb_cols=1)"
   ]
  },
  {
   "cell_type": "markdown",
   "id": "92fd4122",
   "metadata": {
    "tags": []
   },
   "source": [
    "### Snap to perspective from equirectangular"
   ]
  },
  {
   "cell_type": "code",
   "execution_count": null,
   "id": "6681bc36",
   "metadata": {},
   "outputs": [],
   "source": [
    "snap_config = SnapConfig( rot(-10,-3), (480,853),(125,95), equi_photo.shape[:2], source_img_type=ImageProjectionType.EQUI)\n",
    "snap_test = SphereSnap(snap_config)\n",
    "persp_img = snap_test.snap_to_perspective(equi_blend)\n",
    "show_img(persp_img)"
   ]
  },
  {
   "cell_type": "markdown",
   "id": "152018ab",
   "metadata": {},
   "source": [
    "### Reproject equirectangular into 6 planar images of 90 degrees FoV (Cubemap)"
   ]
  },
  {
   "cell_type": "code",
   "execution_count": null,
   "id": "42412104-4c6f-4a83-949e-a91f70c850aa",
   "metadata": {},
   "outputs": [],
   "source": [
    "cube_faces_imgs = rpr.equi2cubemap(equi_blend)\n",
    "show_imgs(cube_faces_imgs, nb_cols=6, size=20)"
   ]
  },
  {
   "cell_type": "markdown",
   "id": "a1d121fd",
   "metadata": {},
   "source": [
    "### Reproject a planar image into equirectangular"
   ]
  },
  {
   "cell_type": "code",
   "execution_count": null,
   "id": "18b3db00",
   "metadata": {},
   "outputs": [],
   "source": [
    "reconstructed_equi = rpr.cubemap2equi(cube_faces_imgs)\n",
    "show_img(reconstructed_equi)\n"
   ]
  },
  {
   "cell_type": "markdown",
   "id": "bcae3a1c-504f-4c62-a9d6-89c63921f2b3",
   "metadata": {},
   "source": [
    "### Reproject fromm equirectangular to Birds-Eye-View"
   ]
  },
  {
   "cell_type": "code",
   "execution_count": null,
   "id": "b84f5d31-7c30-467d-8e46-3229ce342dbb",
   "metadata": {},
   "outputs": [],
   "source": [
    "tv_img = rpr.equi2tv(equi_blend, np.identity(3), (1000,1000), (90,90), 10, 2)\n",
    "show_img(tv_img)"
   ]
  },
  {
   "cell_type": "markdown",
   "id": "ac53ebb8-8dbb-46c1-8e16-0917d846c8cf",
   "metadata": {},
   "source": [
    "### Reproject equirectangular to 2-fisheye180"
   ]
  },
  {
   "cell_type": "code",
   "execution_count": null,
   "id": "c9063726-9cf3-47f6-88c3-66a644bc29ea",
   "metadata": {},
   "outputs": [],
   "source": [
    "fisheye_f, fisheye_b = rpr.equi2fisheye(equi_photo)\n",
    "show_imgs([fisheye_f, fisheye_b])"
   ]
  },
  {
   "cell_type": "markdown",
   "id": "a14470d9",
   "metadata": {},
   "source": [
    "### Reproject a planar image into fisheye 180"
   ]
  },
  {
   "cell_type": "code",
   "execution_count": null,
   "id": "eb1c3584",
   "metadata": {},
   "outputs": [],
   "source": [
    "faces = [SphereSnap(f_cfg) for f_cfg in rpr.get_cube_map_faces(face_size=cube_faces_imgs[0].shape[0])]\n",
    "reconstructed_fisheye = SphereSnap.merge_multiple_snaps((1000,1000), \n",
    "                                                     faces, # snap object specifies destination position\n",
    "                                                     cube_faces_imgs, # snap image contains planar image pixels\n",
    "                                                     target_type=ImageProjectionType.FISHEYE_180, # destination image type\n",
    "                                                     merge_method=\"max\")\n",
    "show_img(reconstructed_fisheye)\n"
   ]
  },
  {
   "cell_type": "markdown",
   "id": "7872d965",
   "metadata": {},
   "source": [
    "### Reproject fisheye 180 to equirectangular detail"
   ]
  },
  {
   "cell_type": "code",
   "execution_count": null,
   "id": "0546cbd1",
   "metadata": {},
   "outputs": [],
   "source": [
    "snap_configs = [SnapConfig( rot(yaw,pitch), (800,800),(110,110), reconstructed_fisheye.shape[:2], source_img_type=ImageProjectionType.FISHEYE_180) \n",
    "                    for yaw,pitch in [[45,0],[-45,0],[0,45],[0,-45]]]\n",
    "snaps = [SphereSnap(c) for c in snap_configs]\n",
    "snap_imgs = [snap.snap_to_perspective(reconstructed_fisheye) for snap in snaps]\n",
    "show_imgs(snap_imgs, nb_cols=7)"
   ]
  },
  {
   "cell_type": "code",
   "execution_count": null,
   "id": "f5754988",
   "metadata": {},
   "outputs": [],
   "source": [
    "reconstructed_equi = SphereSnap.merge_multiple_snaps((1000,2000), \n",
    "                                                     snaps, # snap object specifies destination position\n",
    "                                                     snap_imgs, # snap image contains planar image pixels\n",
    "                                                     target_type=ImageProjectionType.EQUI, # destination image type\n",
    "                                                     merge_method=\"max\")\n",
    "show_img(reconstructed_equi)\n"
   ]
  },
  {
   "cell_type": "markdown",
   "id": "79b7545e-6095-431b-8f7d-74e5ec8466c0",
   "metadata": {},
   "source": [
    "### Reproject fisheye 180 to equirectangular simple"
   ]
  },
  {
   "cell_type": "code",
   "execution_count": null,
   "id": "bf2d097b-576f-4bbf-91d2-f6cb6de1af3c",
   "metadata": {},
   "outputs": [],
   "source": [
    "show_img(rpr.fisheye2equi(reconstructed_fisheye,fisheye_b))"
   ]
  },
  {
   "cell_type": "markdown",
   "id": "99941d2c",
   "metadata": {},
   "source": [
    "### Snap to perspective from fisheye 180"
   ]
  },
  {
   "cell_type": "code",
   "execution_count": null,
   "id": "a741fad9",
   "metadata": {},
   "outputs": [],
   "source": [
    "snap_config = SnapConfig( rot(25,1), (1400,1400),(100,100), reconstructed_fisheye.shape[:2], source_img_type=ImageProjectionType.FISHEYE_180)\n",
    "snap_test = SphereSnap(snap_config)\n",
    "persp_img = snap_test.snap_to_perspective(reconstructed_fisheye)\n",
    "show_img(persp_img)"
   ]
  },
  {
   "cell_type": "markdown",
   "id": "49810726-12ea-44bb-ae6d-90b8d4a9145b",
   "metadata": {},
   "source": [
    "### Undistort radial distorted image"
   ]
  },
  {
   "cell_type": "code",
   "execution_count": null,
   "id": "90f6204d-6bcd-4885-ba9e-80a4f0b8c09c",
   "metadata": {},
   "outputs": [],
   "source": [
    "radial_distorted = plt.imread(f\"{NOTEBOOKS_DIR}/../data/radial_distorted.jpg\")\n",
    "snap_config = SnapConfig( rot(-7,0), (1400,1400),(90,90),radial_distorted.shape[:2],\n",
    "                         source_img_fov_deg = (120,110),\n",
    "                         source_dist_coeff = [-8.5e-1, 0.5,0.5],\n",
    "                         source_img_type=ImageProjectionType.RADIAL_DISTORTED)\n",
    "\n",
    "snap_test_distorted = SphereSnap(snap_config)\n",
    "undistorted_img = snap_test_distorted.snap_to_perspective(radial_distorted)\n",
    "show_imgs([radial_distorted, undistorted_img])"
   ]
  },
  {
   "cell_type": "code",
   "execution_count": null,
   "id": "8e6eff05-7377-44b7-94d5-e41c500c65e1",
   "metadata": {},
   "outputs": [],
   "source": []
  },
  {
   "cell_type": "code",
   "execution_count": null,
   "id": "b4b3dee2-c595-48da-ac2f-700e67be9f8b",
   "metadata": {},
   "outputs": [],
   "source": []
  },
  {
   "cell_type": "code",
   "execution_count": null,
   "id": "aa2cff5a-efaf-4d97-b520-e09f51cc1a0d",
   "metadata": {},
   "outputs": [],
   "source": [
    "\n"
   ]
  }
 ],
 "metadata": {
  "kernelspec": {
   "display_name": "Python 3",
   "language": "python",
   "name": "python3"
  },
  "language_info": {
   "codemirror_mode": {
    "name": "ipython",
    "version": 3
   },
   "file_extension": ".py",
   "mimetype": "text/x-python",
   "name": "python",
   "nbconvert_exporter": "python",
   "pygments_lexer": "ipython3",
   "version": "3.9.5"
  }
 },
 "nbformat": 4,
 "nbformat_minor": 5
}
